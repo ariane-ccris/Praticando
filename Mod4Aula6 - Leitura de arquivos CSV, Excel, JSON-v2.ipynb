{
 "cells": [
  {
   "cell_type": "markdown",
   "metadata": {},
   "source": [
    "# Leitura de arquivos CSV, Excel, JSON"
   ]
  },
  {
   "cell_type": "markdown",
   "metadata": {},
   "source": [
    "# Lendo CSV"
   ]
  },
  {
   "cell_type": "markdown",
   "metadata": {},
   "source": [
    "## BNDESPar\n",
    "- https://pt.wikipedia.org/wiki/Banco_Nacional_de_Desenvolvimento_Econ%C3%B4mico_e_Social\n",
    "- https://pt.wikipedia.org/wiki/BNDESPAR\n",
    "- https://dados.gov.br/dataset/renda-variavel\n",
    "    - https://dadosabertos.bndes.gov.br/dataset/68a85772-df73-4c8b-8b8c-398f494fcca8/resource/10ff2d60-02d1-4619-8e42-24fc2a5927dd/download/renda-variavel-participacoes-acionarias-historico-da-carteira.csv\n",
    "- https://www.bndes.gov.br/wps/portal/site/home/transparencia/consulta-operacoes-bndes/carteira-acionaria"
   ]
  },
  {
   "cell_type": "code",
   "execution_count": 1,
   "metadata": {
    "ExecuteTime": {
     "end_time": "2021-05-23T22:16:00.740101Z",
     "start_time": "2021-05-23T22:16:00.268356Z"
    }
   },
   "outputs": [
    {
     "data": {
      "text/html": [
       "<div>\n",
       "<style scoped>\n",
       "    .dataframe tbody tr th:only-of-type {\n",
       "        vertical-align: middle;\n",
       "    }\n",
       "\n",
       "    .dataframe tbody tr th {\n",
       "        vertical-align: top;\n",
       "    }\n",
       "\n",
       "    .dataframe thead th {\n",
       "        text-align: right;\n",
       "    }\n",
       "</style>\n",
       "<table border=\"1\" class=\"dataframe\">\n",
       "  <thead>\n",
       "    <tr style=\"text-align: right;\">\n",
       "      <th></th>\n",
       "      <th>sigla</th>\n",
       "      <th>razao_social</th>\n",
       "      <th>cnpj</th>\n",
       "      <th>tipo_de_ativo</th>\n",
       "      <th>ano</th>\n",
       "      <th>setor_de_atividade</th>\n",
       "      <th>total_pp</th>\n",
       "      <th>on_pp</th>\n",
       "      <th>pn_pp</th>\n",
       "      <th>aberta_fechada</th>\n",
       "      <th>acordo_de_acionistas_em_vigor</th>\n",
       "      <th>indicado_para_conselho_de_administracao</th>\n",
       "      <th>indicado_para_conselho_fiscal</th>\n",
       "    </tr>\n",
       "  </thead>\n",
       "  <tbody>\n",
       "    <tr>\n",
       "      <th>0</th>\n",
       "      <td>ABICO</td>\n",
       "      <td>COMPANHIA DE INVESTIMENTOS ARABE E BRASILEIRA</td>\n",
       "      <td>42.470.443/0001-96</td>\n",
       "      <td>PARTICIPAÇÃO ACIONÁRIA</td>\n",
       "      <td>2025</td>\n",
       "      <td>OUTROS SETORES</td>\n",
       "      <td>35</td>\n",
       "      <td>35</td>\n",
       "      <td>0</td>\n",
       "      <td>FECHADA</td>\n",
       "      <td>NÃO</td>\n",
       "      <td>NÃO</td>\n",
       "      <td>NÃO</td>\n",
       "    </tr>\n",
       "    <tr>\n",
       "      <th>1</th>\n",
       "      <td>ABICO</td>\n",
       "      <td>COMPANHIA DE INVESTIMENTOS ARABE E BRASILEIRA</td>\n",
       "      <td>42.470.443/0001-96</td>\n",
       "      <td>PARTICIPAÇÃO ACIONÁRIA</td>\n",
       "      <td>2024</td>\n",
       "      <td>OUTROS SETORES</td>\n",
       "      <td>35</td>\n",
       "      <td>35</td>\n",
       "      <td>0</td>\n",
       "      <td>FECHADA</td>\n",
       "      <td>NÃO</td>\n",
       "      <td>NÃO</td>\n",
       "      <td>NÃO</td>\n",
       "    </tr>\n",
       "    <tr>\n",
       "      <th>2</th>\n",
       "      <td>ABICO</td>\n",
       "      <td>ABICO - CIA. DE INVESTIMENTOS ÁRABE E BRASILEIRO</td>\n",
       "      <td>42.470.443/0001-96</td>\n",
       "      <td>PARTICIPAÇÃO ACIONÁRIA</td>\n",
       "      <td>2023</td>\n",
       "      <td>OUTROS SETORES</td>\n",
       "      <td>35</td>\n",
       "      <td>35</td>\n",
       "      <td>0</td>\n",
       "      <td>FECHADA</td>\n",
       "      <td>NÃO</td>\n",
       "      <td>NÃO</td>\n",
       "      <td>NÃO</td>\n",
       "    </tr>\n",
       "    <tr>\n",
       "      <th>3</th>\n",
       "      <td>ABICO</td>\n",
       "      <td>ABICO - CIA. DE INVESTIMENTOS ÁRABE E BRASILEIRO</td>\n",
       "      <td>42.470.443/0001-96</td>\n",
       "      <td>PARTICIPAÇÃO ACIONÁRIA</td>\n",
       "      <td>2022</td>\n",
       "      <td>OUTROS SETORES</td>\n",
       "      <td>35</td>\n",
       "      <td>35</td>\n",
       "      <td>0</td>\n",
       "      <td>FECHADA</td>\n",
       "      <td>NÃO</td>\n",
       "      <td>NÃO</td>\n",
       "      <td>NÃO</td>\n",
       "    </tr>\n",
       "    <tr>\n",
       "      <th>4</th>\n",
       "      <td>ABICO</td>\n",
       "      <td>ABICO - CIA. DE INVESTIMENTOS ÁRABE E BRASILEIRO</td>\n",
       "      <td>42.470.443/0001-96</td>\n",
       "      <td>PARTICIPAÇÃO ACIONÁRIA</td>\n",
       "      <td>2021</td>\n",
       "      <td>OUTROS SETORES</td>\n",
       "      <td>35</td>\n",
       "      <td>35</td>\n",
       "      <td>0</td>\n",
       "      <td>FECHADA</td>\n",
       "      <td>NÃO</td>\n",
       "      <td>NÃO</td>\n",
       "      <td>NÃO</td>\n",
       "    </tr>\n",
       "  </tbody>\n",
       "</table>\n",
       "</div>"
      ],
      "text/plain": [
       "   sigla                                      razao_social  \\\n",
       "0  ABICO     COMPANHIA DE INVESTIMENTOS ARABE E BRASILEIRA   \n",
       "1  ABICO     COMPANHIA DE INVESTIMENTOS ARABE E BRASILEIRA   \n",
       "2  ABICO  ABICO - CIA. DE INVESTIMENTOS ÁRABE E BRASILEIRO   \n",
       "3  ABICO  ABICO - CIA. DE INVESTIMENTOS ÁRABE E BRASILEIRO   \n",
       "4  ABICO  ABICO - CIA. DE INVESTIMENTOS ÁRABE E BRASILEIRO   \n",
       "\n",
       "                 cnpj           tipo_de_ativo   ano setor_de_atividade  \\\n",
       "0  42.470.443/0001-96  PARTICIPAÇÃO ACIONÁRIA  2025     OUTROS SETORES   \n",
       "1  42.470.443/0001-96  PARTICIPAÇÃO ACIONÁRIA  2024     OUTROS SETORES   \n",
       "2  42.470.443/0001-96  PARTICIPAÇÃO ACIONÁRIA  2023     OUTROS SETORES   \n",
       "3  42.470.443/0001-96  PARTICIPAÇÃO ACIONÁRIA  2022     OUTROS SETORES   \n",
       "4  42.470.443/0001-96  PARTICIPAÇÃO ACIONÁRIA  2021     OUTROS SETORES   \n",
       "\n",
       "  total_pp on_pp pn_pp aberta_fechada acordo_de_acionistas_em_vigor  \\\n",
       "0       35    35     0        FECHADA                           NÃO   \n",
       "1       35    35     0        FECHADA                           NÃO   \n",
       "2       35    35     0        FECHADA                           NÃO   \n",
       "3       35    35     0        FECHADA                           NÃO   \n",
       "4       35    35     0        FECHADA                           NÃO   \n",
       "\n",
       "  indicado_para_conselho_de_administracao indicado_para_conselho_fiscal  \n",
       "0                                     NÃO                           NÃO  \n",
       "1                                     NÃO                           NÃO  \n",
       "2                                     NÃO                           NÃO  \n",
       "3                                     NÃO                           NÃO  \n",
       "4                                     NÃO                           NÃO  "
      ]
     },
     "execution_count": 1,
     "metadata": {},
     "output_type": "execute_result"
    }
   ],
   "source": [
    "import pandas as pd\n",
    "\n",
    "df = pd.read_csv('renda-variavel-participacoes-acionarias-historico-da-carteira.csv', encoding='latin1', sep=';')\n",
    "df.head()\n",
    "\n"
   ]
  },
  {
   "cell_type": "code",
   "execution_count": 2,
   "metadata": {
    "ExecuteTime": {
     "end_time": "2021-05-23T22:16:50.491625Z",
     "start_time": "2021-05-23T22:16:49.098810Z"
    },
    "scrolled": true
   },
   "outputs": [
    {
     "data": {
      "text/html": [
       "<div>\n",
       "<style scoped>\n",
       "    .dataframe tbody tr th:only-of-type {\n",
       "        vertical-align: middle;\n",
       "    }\n",
       "\n",
       "    .dataframe tbody tr th {\n",
       "        vertical-align: top;\n",
       "    }\n",
       "\n",
       "    .dataframe thead th {\n",
       "        text-align: right;\n",
       "    }\n",
       "</style>\n",
       "<table border=\"1\" class=\"dataframe\">\n",
       "  <thead>\n",
       "    <tr style=\"text-align: right;\">\n",
       "      <th></th>\n",
       "      <th>sigla</th>\n",
       "      <th>razao_social</th>\n",
       "      <th>cnpj</th>\n",
       "      <th>tipo_de_ativo</th>\n",
       "      <th>ano</th>\n",
       "      <th>setor_de_atividade</th>\n",
       "      <th>total_pp</th>\n",
       "      <th>on_pp</th>\n",
       "      <th>pn_pp</th>\n",
       "      <th>aberta_fechada</th>\n",
       "      <th>acordo_de_acionistas_em_vigor</th>\n",
       "      <th>indicado_para_conselho_de_administracao</th>\n",
       "      <th>indicado_para_conselho_fiscal</th>\n",
       "    </tr>\n",
       "  </thead>\n",
       "  <tbody>\n",
       "    <tr>\n",
       "      <th>0</th>\n",
       "      <td>ABICO</td>\n",
       "      <td>COMPANHIA DE INVESTIMENTOS ARABE E BRASILEIRA</td>\n",
       "      <td>42.470.443/0001-96</td>\n",
       "      <td>PARTICIPAÇÃO ACIONÁRIA</td>\n",
       "      <td>2025</td>\n",
       "      <td>OUTROS SETORES</td>\n",
       "      <td>35</td>\n",
       "      <td>35</td>\n",
       "      <td>0</td>\n",
       "      <td>FECHADA</td>\n",
       "      <td>NÃO</td>\n",
       "      <td>NÃO</td>\n",
       "      <td>NÃO</td>\n",
       "    </tr>\n",
       "    <tr>\n",
       "      <th>1</th>\n",
       "      <td>ABICO</td>\n",
       "      <td>COMPANHIA DE INVESTIMENTOS ARABE E BRASILEIRA</td>\n",
       "      <td>42.470.443/0001-96</td>\n",
       "      <td>PARTICIPAÇÃO ACIONÁRIA</td>\n",
       "      <td>2024</td>\n",
       "      <td>OUTROS SETORES</td>\n",
       "      <td>35</td>\n",
       "      <td>35</td>\n",
       "      <td>0</td>\n",
       "      <td>FECHADA</td>\n",
       "      <td>NÃO</td>\n",
       "      <td>NÃO</td>\n",
       "      <td>NÃO</td>\n",
       "    </tr>\n",
       "    <tr>\n",
       "      <th>2</th>\n",
       "      <td>ABICO</td>\n",
       "      <td>ABICO - CIA. DE INVESTIMENTOS ÁRABE E BRASILEIRO</td>\n",
       "      <td>42.470.443/0001-96</td>\n",
       "      <td>PARTICIPAÇÃO ACIONÁRIA</td>\n",
       "      <td>2023</td>\n",
       "      <td>OUTROS SETORES</td>\n",
       "      <td>35</td>\n",
       "      <td>35</td>\n",
       "      <td>0</td>\n",
       "      <td>FECHADA</td>\n",
       "      <td>NÃO</td>\n",
       "      <td>NÃO</td>\n",
       "      <td>NÃO</td>\n",
       "    </tr>\n",
       "    <tr>\n",
       "      <th>3</th>\n",
       "      <td>ABICO</td>\n",
       "      <td>ABICO - CIA. DE INVESTIMENTOS ÁRABE E BRASILEIRO</td>\n",
       "      <td>42.470.443/0001-96</td>\n",
       "      <td>PARTICIPAÇÃO ACIONÁRIA</td>\n",
       "      <td>2022</td>\n",
       "      <td>OUTROS SETORES</td>\n",
       "      <td>35</td>\n",
       "      <td>35</td>\n",
       "      <td>0</td>\n",
       "      <td>FECHADA</td>\n",
       "      <td>NÃO</td>\n",
       "      <td>NÃO</td>\n",
       "      <td>NÃO</td>\n",
       "    </tr>\n",
       "    <tr>\n",
       "      <th>4</th>\n",
       "      <td>ABICO</td>\n",
       "      <td>ABICO - CIA. DE INVESTIMENTOS ÁRABE E BRASILEIRO</td>\n",
       "      <td>42.470.443/0001-96</td>\n",
       "      <td>PARTICIPAÇÃO ACIONÁRIA</td>\n",
       "      <td>2021</td>\n",
       "      <td>OUTROS SETORES</td>\n",
       "      <td>35</td>\n",
       "      <td>35</td>\n",
       "      <td>0</td>\n",
       "      <td>FECHADA</td>\n",
       "      <td>NÃO</td>\n",
       "      <td>NÃO</td>\n",
       "      <td>NÃO</td>\n",
       "    </tr>\n",
       "  </tbody>\n",
       "</table>\n",
       "</div>"
      ],
      "text/plain": [
       "   sigla                                      razao_social  \\\n",
       "0  ABICO     COMPANHIA DE INVESTIMENTOS ARABE E BRASILEIRA   \n",
       "1  ABICO     COMPANHIA DE INVESTIMENTOS ARABE E BRASILEIRA   \n",
       "2  ABICO  ABICO - CIA. DE INVESTIMENTOS ÁRABE E BRASILEIRO   \n",
       "3  ABICO  ABICO - CIA. DE INVESTIMENTOS ÁRABE E BRASILEIRO   \n",
       "4  ABICO  ABICO - CIA. DE INVESTIMENTOS ÁRABE E BRASILEIRO   \n",
       "\n",
       "                 cnpj           tipo_de_ativo   ano setor_de_atividade  \\\n",
       "0  42.470.443/0001-96  PARTICIPAÇÃO ACIONÁRIA  2025     OUTROS SETORES   \n",
       "1  42.470.443/0001-96  PARTICIPAÇÃO ACIONÁRIA  2024     OUTROS SETORES   \n",
       "2  42.470.443/0001-96  PARTICIPAÇÃO ACIONÁRIA  2023     OUTROS SETORES   \n",
       "3  42.470.443/0001-96  PARTICIPAÇÃO ACIONÁRIA  2022     OUTROS SETORES   \n",
       "4  42.470.443/0001-96  PARTICIPAÇÃO ACIONÁRIA  2021     OUTROS SETORES   \n",
       "\n",
       "  total_pp on_pp pn_pp aberta_fechada acordo_de_acionistas_em_vigor  \\\n",
       "0       35    35     0        FECHADA                           NÃO   \n",
       "1       35    35     0        FECHADA                           NÃO   \n",
       "2       35    35     0        FECHADA                           NÃO   \n",
       "3       35    35     0        FECHADA                           NÃO   \n",
       "4       35    35     0        FECHADA                           NÃO   \n",
       "\n",
       "  indicado_para_conselho_de_administracao indicado_para_conselho_fiscal  \n",
       "0                                     NÃO                           NÃO  \n",
       "1                                     NÃO                           NÃO  \n",
       "2                                     NÃO                           NÃO  \n",
       "3                                     NÃO                           NÃO  \n",
       "4                                     NÃO                           NÃO  "
      ]
     },
     "execution_count": 2,
     "metadata": {},
     "output_type": "execute_result"
    }
   ],
   "source": [
    "participacoes_acionarias = pd.read_csv('renda-variavel-participacoes-acionarias-historico-da-carteira.csv', encoding='latin1', sep=';')\n",
    "participacoes_acionarias.head()"
   ]
  },
  {
   "cell_type": "code",
   "execution_count": 3,
   "metadata": {
    "ExecuteTime": {
     "end_time": "2021-05-23T22:17:48.379418Z",
     "start_time": "2021-05-23T22:17:48.363437Z"
    }
   },
   "outputs": [
    {
     "name": "stdout",
     "output_type": "stream",
     "text": [
      "<class 'pandas.core.frame.DataFrame'>\n",
      "RangeIndex: 2349 entries, 0 to 2348\n",
      "Data columns (total 13 columns):\n",
      " #   Column                                   Non-Null Count  Dtype \n",
      "---  ------                                   --------------  ----- \n",
      " 0   sigla                                    2349 non-null   object\n",
      " 1   razao_social                             2349 non-null   object\n",
      " 2   cnpj                                     2348 non-null   object\n",
      " 3   tipo_de_ativo                            2349 non-null   object\n",
      " 4   ano                                      2349 non-null   int64 \n",
      " 5   setor_de_atividade                       2345 non-null   object\n",
      " 6   total_pp                                 2326 non-null   object\n",
      " 7   on_pp                                    2326 non-null   object\n",
      " 8   pn_pp                                    2326 non-null   object\n",
      " 9   aberta_fechada                           2348 non-null   object\n",
      " 10  acordo_de_acionistas_em_vigor            2349 non-null   object\n",
      " 11  indicado_para_conselho_de_administracao  2349 non-null   object\n",
      " 12  indicado_para_conselho_fiscal            2349 non-null   object\n",
      "dtypes: int64(1), object(12)\n",
      "memory usage: 238.7+ KB\n"
     ]
    }
   ],
   "source": [
    "participacoes_acionarias.info()"
   ]
  },
  {
   "cell_type": "code",
   "execution_count": null,
   "metadata": {},
   "outputs": [],
   "source": []
  },
  {
   "cell_type": "markdown",
   "metadata": {},
   "source": [
    "### Qual a quantidade de participações em cada ano?"
   ]
  },
  {
   "cell_type": "code",
   "execution_count": 4,
   "metadata": {
    "ExecuteTime": {
     "end_time": "2021-05-23T22:18:33.679055Z",
     "start_time": "2021-05-23T22:18:33.664065Z"
    }
   },
   "outputs": [
    {
     "data": {
      "text/plain": [
       "ano\n",
       "2011    172\n",
       "2009    158\n",
       "2012    157\n",
       "2013    155\n",
       "2010    154\n",
       "2008    145\n",
       "2007    143\n",
       "2014    133\n",
       "2006    130\n",
       "2015    125\n",
       "2016    124\n",
       "2017    108\n",
       "2018    101\n",
       "2019     87\n",
       "2020     87\n",
       "2021     83\n",
       "2022     75\n",
       "2023     75\n",
       "2024     70\n",
       "2025     67\n",
       "Name: count, dtype: int64"
      ]
     },
     "execution_count": 4,
     "metadata": {},
     "output_type": "execute_result"
    }
   ],
   "source": [
    "participacoes_acionarias['ano'].value_counts()"
   ]
  },
  {
   "cell_type": "markdown",
   "metadata": {},
   "source": [
    "### Em quais empresas o BNDESP já teve participação?"
   ]
  },
  {
   "cell_type": "code",
   "execution_count": 5,
   "metadata": {
    "ExecuteTime": {
     "end_time": "2021-05-23T22:19:33.576234Z",
     "start_time": "2021-05-23T22:19:33.559246Z"
    }
   },
   "outputs": [
    {
     "data": {
      "text/plain": [
       "array(['ABICO', 'AÇOS VILLARES', 'AES BRASIL ENER', 'AES COMM RJ',\n",
       "       'AES ELPA', 'AES TE', 'AES TH', 'AES TIETÊ', 'AES TIETÊ ENERG',\n",
       "       'AES URUGUAIANA', 'ÁGUIA', 'ALCOOLQUÍMICA', 'ALFATEST', 'ALTUS',\n",
       "       'ALUPAR', 'AMATA', 'AMATA URBEM', 'AMBEV', 'AMERICANAS',\n",
       "       'AMERICEL', 'ARACRUZ', 'ARCELORMITTAL', 'AUTEL', 'BANCO DO BRASIL',\n",
       "       'BCPAR', 'BEMATECH', 'BERTIN', 'BIO FILL', 'BIOMM', 'BIONNOVATION',\n",
       "       'BLOCKBIT', 'BM&F BOVESPA', 'BNB', 'BOM GOSTO', 'BOMBRIL',\n",
       "       'BR MALLS', 'BRADESCO', 'BRADESPAR', 'BRASAGRO', 'BRASIL FOODS',\n",
       "       'BRASIL TEL PART', 'BRASILIANA PART', 'BRASILINTERPART', 'BRASKEM',\n",
       "       'BRASPÉROLA', 'BRAVA ENERGIA', 'BRICLOG', 'BRQ', 'CADAM',\n",
       "       'CARBOMIL', 'CASA ANGLO', 'CASAL', 'CBD', 'CBO HOLDING', 'CBPAK',\n",
       "       'CCR', 'CCX', 'CEAL', 'CEG', 'CEMIG', 'CEMIG DISTRIB.', 'CEMIG GT',\n",
       "       'CESP', 'CETIP S.A.', 'CHAPECÓ', 'CI&T', 'CIELO', 'CIMETAL',\n",
       "       'CIPHER', 'CLAMPER', 'CLARO', 'COMTEX', 'COMTRAFO', 'COPASA',\n",
       "       'COPEL', 'COSAN', 'COSAN LOG', 'COTEMINAS', 'CPFL ENERGIA',\n",
       "       'CRP CADERI', 'CRSEC', 'CSN', 'CTC', 'CTC/RJ', 'CTTU/RECIFE',\n",
       "       'CTX', 'CYRELA REALTY', 'DETEN', 'DIGITEL', 'EBP',\n",
       "       'ECORODOVIAS INF', 'ELEBRA', 'ELETROACRE', 'ELETROBRÁS',\n",
       "       'ELETROPAULO', 'ELETROPAULO TEL', 'EMAE', 'EMBRAER',\n",
       "       'EMBRATEL OPER.', 'EMBRATEL PART.', 'ENAUTA', 'ENB', 'ENERGISA',\n",
       "       'ENERGISA MT', 'ENEVA', 'ENGIE BRASIL', 'EQUATORIAL', 'ERB',\n",
       "       'FD ETF ICO2', 'FIAGRIL PART.', 'FIBRIA', 'FOTON', 'GAFISA',\n",
       "       'GENOA', 'GERDAU', 'GERDAU MET.', 'GOL', 'GRANBIO', 'GRANO',\n",
       "       'GRAÚNA', 'GRUPO A', 'HIDROVIAS', 'HIGH BRIDGE', 'HOSPITAL FÊMINA',\n",
       "       'HYPERA', 'IBEMA', 'IGUA SANEAMENTO', 'INDEPENDÊNCIA', 'INEPAR',\n",
       "       'INEPAR ENERGIA', 'IOCHPE', 'ITAITUBA', 'ITAÚ UNIBANCO',\n",
       "       'ITAUCORP', 'ITAÚSA', 'ITAUTINGA', 'IVESA', 'JBS', 'KEPLER WEBER',\n",
       "       'KLABIN', 'KLICK NET', 'KOBLITZ', 'KOSMOS', 'LATINA', 'LBR',\n",
       "       'LDC-BIOENERGIA', 'LDC-SEV', 'LIFEMED', 'LIGHT', 'LINX',\n",
       "       'LIQ. PART', 'LLX', 'LOG', 'LORENZ', 'LUPATECH', 'MADEF',\n",
       "       'MAGNESITA REFR.', 'MAGNESITA S.A.', 'MANGELS', 'MARCOPOLO',\n",
       "       'MARFRIG', 'MARLIM', 'MARLIMPAR', 'MECTRON', 'METALFRIO',\n",
       "       'METANOR', 'METRO/SP', 'METRÔ/SP', 'MMX MINERAÇÃO', 'MOBIGROUP',\n",
       "       'MRV', 'MUNDIAL S.A.', 'MWI (ZUM NET)', 'NANOCORE', 'NATURA',\n",
       "       'NESBER', 'NET', 'NETUNO', 'NILZA', 'NORTEC', 'NOVA AMERICA',\n",
       "       'NOVADATA', 'NOVAMARLIMPAR', 'NUTRELLA', 'NUTRIPLANT', 'OCEANA',\n",
       "       'ODEBRECHT AGRO', 'OGP', 'OI', 'OPENCOMMERCE', 'ORBISAT', 'OTP',\n",
       "       'OURO FINO PAR', 'OURO FINO SAUDE', 'PADTEC', 'PADTEC HOLDING',\n",
       "       'PARANAPANEMA', 'PDG REALTY', 'PETROBRAS', 'POLY EASY', 'PORTX',\n",
       "       'PRATICA', 'PRÁTICA PAR', 'PROCABLE', 'PROGEN', 'PRONOR',\n",
       "       'QUALITY SOFT', 'RECEPTA', 'REDE ENERGIA', 'REDECARD', 'REIVAX',\n",
       "       'RELASTOMER', 'RENNER', 'RENOVA', 'RFFSA', 'RIOPOL', 'ROCHA',\n",
       "       'ROMI', 'ROOSTER', 'ROSSI', 'RUMO', 'RUMO LOGÍSTICA', 'SAM',\n",
       "       'SANTANDER', 'SÃO MARTINHO', 'SAPORE', 'SBCE', 'SETAL', 'SINQIA',\n",
       "       'SISA', 'SOROSISTEM', 'SOUZA CRUZ', 'SPRINGER', 'SPRINGS GLOBAL',\n",
       "       'STARA', 'SUNEW', 'SUZANO', 'TAESA', 'TAUM CHEMIE', 'TBM',\n",
       "       'TECNORED', 'TECPAR', 'TECSIS', 'TEIKON', 'TELEBRÁS',\n",
       "       'TELEFÔNICA BR', 'TELEMAR N LESTE', 'TELEMAR PART',\n",
       "       'TELEMIG CEL PAR', 'TELEMIG CELULAR', 'TIM PARTICIP.',\n",
       "       'TNLP (TELEMAR)', 'TOPSPORTS', 'TOTVS', 'TRANS. PAULISTA',\n",
       "       'TRANSNORDESTINA', 'TRANSURB', 'TREVISA', 'TRIUNFO', 'TUPY',\n",
       "       'UNITEC', 'USIMINAS', 'VALE', 'VALEPAR', 'VALLÉE', 'VBC ENERGIA',\n",
       "       'VICUNHA TÊXTIL', 'VIGOR', 'VIVO', 'VLI', 'VSE', 'VULCABRÁS',\n",
       "       'ZENVIA'], dtype=object)"
      ]
     },
     "execution_count": 5,
     "metadata": {},
     "output_type": "execute_result"
    }
   ],
   "source": [
    "participacoes_acionarias.sigla.unique()"
   ]
  },
  {
   "cell_type": "markdown",
   "metadata": {},
   "source": [
    "### Em quais empresas o BNDESP tem participação em 2021?"
   ]
  },
  {
   "cell_type": "code",
   "execution_count": 6,
   "metadata": {
    "ExecuteTime": {
     "end_time": "2021-05-23T22:20:24.833988Z",
     "start_time": "2021-05-23T22:20:24.800027Z"
    }
   },
   "outputs": [
    {
     "data": {
      "text/plain": [
       "array(['ABICO', 'AES BRASIL ENER', 'AES ELPA', 'ALCOOLQUÍMICA', 'AMATA',\n",
       "       'AMATA URBEM', 'BIOMM', 'BLOCKBIT', 'BOMBRIL', 'BRASAGRO',\n",
       "       'BRASILIANA PART', 'BRASILINTERPART', 'BRASPÉROLA', 'BRQ', 'CADAM',\n",
       "       'CARBOMIL', 'CASA ANGLO', 'CASAL', 'CEG', 'CEMIG', 'CHAPECÓ',\n",
       "       'COPASA', 'COPEL', 'COTEMINAS', 'CSN', 'CTC', 'CTC/RJ',\n",
       "       'CTTU/RECIFE', 'DETEN', 'EBP', 'ELEBRA', 'ELETROBRÁS', 'EMBRAER',\n",
       "       'ENERGISA', 'ENGIE BRASIL', 'ERB', 'GRANBIO', 'HIDROVIAS',\n",
       "       'IGUA SANEAMENTO', 'INDEPENDÊNCIA', 'IOCHPE', 'ITAITUBA',\n",
       "       'ITAUTINGA', 'JBS', 'KOSMOS', 'LBR', 'LIFEMED', 'LORENZ', 'MADEF',\n",
       "       'METANOR', 'METRÔ/SP', 'NESBER', 'NETUNO', 'NILZA', 'NOVA AMERICA',\n",
       "       'NOVADATA', 'OCEANA', 'OI', 'OTP', 'OURO FINO SAUDE',\n",
       "       'PADTEC HOLDING', 'PARANAPANEMA', 'PETROBRAS', 'PRATICA', 'PROGEN',\n",
       "       'QUALITY SOFT', 'RECEPTA', 'RENOVA', 'ROCHA', 'SAM', 'SPRINGER',\n",
       "       'SPRINGS GLOBAL', 'STARA', 'SUNEW', 'TAUM CHEMIE', 'TBM',\n",
       "       'TRANSNORDESTINA', 'TREVISA', 'TRIUNFO', 'TUPY', 'UNITEC', 'VLI',\n",
       "       'VULCABRÁS'], dtype=object)"
      ]
     },
     "execution_count": 6,
     "metadata": {},
     "output_type": "execute_result"
    }
   ],
   "source": [
    "participacoes_acionarias[participacoes_acionarias['ano'] == 2021].sigla.unique()"
   ]
  },
  {
   "cell_type": "code",
   "execution_count": null,
   "metadata": {},
   "outputs": [],
   "source": []
  },
  {
   "cell_type": "code",
   "execution_count": null,
   "metadata": {},
   "outputs": [],
   "source": []
  },
  {
   "cell_type": "markdown",
   "metadata": {},
   "source": [
    "# Lendo Excel"
   ]
  },
  {
   "cell_type": "markdown",
   "metadata": {},
   "source": [
    "\n",
    "## Brasileirão\n",
    "- https://github.com/adaoduque/Brasileirao_Dataset\n",
    "- https://github.com/adaoduque/Brasileirao_Dataset/raw/master/campeonato-brasileiro-full.xlsx\n",
    "- https://raw.githubusercontent.com/adaoduque/Brasileirao_Dataset/master/campeonato-brasileiro-estatisticas-full.csv"
   ]
  },
  {
   "cell_type": "code",
   "execution_count": 7,
   "metadata": {
    "ExecuteTime": {
     "end_time": "2021-05-23T22:23:33.099350Z",
     "start_time": "2021-05-23T22:23:30.149256Z"
    }
   },
   "outputs": [],
   "source": [
    "# o responsável pelo repositório arquivou o excel. Portanto basta usar a célula abaixo.\n",
    "# brasileirao = pd.read_excel('https://github.com/adaoduque/Brasileirao_Dataset/raw/master/campeonato-brasileiro-full.xlsx')"
   ]
  },
  {
   "cell_type": "code",
   "execution_count": 8,
   "metadata": {},
   "outputs": [],
   "source": [
    "brasileirao = pd.read_excel('https://github.com/LucasSerra/EBAC-parte-1/raw/main/mod-4/input/campeonato-brasileiro-full.xlsx')"
   ]
  },
  {
   "cell_type": "code",
   "execution_count": 9,
   "metadata": {
    "ExecuteTime": {
     "end_time": "2021-05-23T22:23:35.627557Z",
     "start_time": "2021-05-23T22:23:35.596574Z"
    },
    "scrolled": true
   },
   "outputs": [
    {
     "data": {
      "text/html": [
       "<div>\n",
       "<style scoped>\n",
       "    .dataframe tbody tr th:only-of-type {\n",
       "        vertical-align: middle;\n",
       "    }\n",
       "\n",
       "    .dataframe tbody tr th {\n",
       "        vertical-align: top;\n",
       "    }\n",
       "\n",
       "    .dataframe thead th {\n",
       "        text-align: right;\n",
       "    }\n",
       "</style>\n",
       "<table border=\"1\" class=\"dataframe\">\n",
       "  <thead>\n",
       "    <tr style=\"text-align: right;\">\n",
       "      <th></th>\n",
       "      <th>Rodada</th>\n",
       "      <th>Data</th>\n",
       "      <th>Horário</th>\n",
       "      <th>Dia</th>\n",
       "      <th>Mandante</th>\n",
       "      <th>Visitante</th>\n",
       "      <th>Vencedor</th>\n",
       "      <th>Arena</th>\n",
       "      <th>Mandante Placar</th>\n",
       "      <th>Visitante Placar</th>\n",
       "      <th>Estado Mandante</th>\n",
       "      <th>Estado Visitante</th>\n",
       "      <th>Estado Vencedor</th>\n",
       "    </tr>\n",
       "  </thead>\n",
       "  <tbody>\n",
       "    <tr>\n",
       "      <th>0</th>\n",
       "      <td>1</td>\n",
       "      <td>2000-07-29</td>\n",
       "      <td>16h00</td>\n",
       "      <td>Sábado</td>\n",
       "      <td>Fluminense</td>\n",
       "      <td>Bahia</td>\n",
       "      <td>Fluminense</td>\n",
       "      <td>Maracanã</td>\n",
       "      <td>2</td>\n",
       "      <td>0</td>\n",
       "      <td>RJ</td>\n",
       "      <td>BA</td>\n",
       "      <td>RJ</td>\n",
       "    </tr>\n",
       "    <tr>\n",
       "      <th>1</th>\n",
       "      <td>1</td>\n",
       "      <td>2000-07-29</td>\n",
       "      <td>16h00</td>\n",
       "      <td>Sábado</td>\n",
       "      <td>Vasco</td>\n",
       "      <td>Sport</td>\n",
       "      <td>Sport</td>\n",
       "      <td>São Januário</td>\n",
       "      <td>0</td>\n",
       "      <td>2</td>\n",
       "      <td>RJ</td>\n",
       "      <td>PE</td>\n",
       "      <td>PE</td>\n",
       "    </tr>\n",
       "    <tr>\n",
       "      <th>2</th>\n",
       "      <td>1</td>\n",
       "      <td>2000-07-29</td>\n",
       "      <td>16h00</td>\n",
       "      <td>Sábado</td>\n",
       "      <td>Vitória</td>\n",
       "      <td>Palmeiras</td>\n",
       "      <td>Vitória</td>\n",
       "      <td>Barradão</td>\n",
       "      <td>4</td>\n",
       "      <td>1</td>\n",
       "      <td>ES</td>\n",
       "      <td>SP</td>\n",
       "      <td>ES</td>\n",
       "    </tr>\n",
       "    <tr>\n",
       "      <th>3</th>\n",
       "      <td>1</td>\n",
       "      <td>2000-07-30</td>\n",
       "      <td>17h00</td>\n",
       "      <td>Domingo</td>\n",
       "      <td>Botafogo-RJ</td>\n",
       "      <td>Atlético-MG</td>\n",
       "      <td>-</td>\n",
       "      <td>Caio Martins</td>\n",
       "      <td>0</td>\n",
       "      <td>0</td>\n",
       "      <td>RJ</td>\n",
       "      <td>MG</td>\n",
       "      <td>-</td>\n",
       "    </tr>\n",
       "    <tr>\n",
       "      <th>4</th>\n",
       "      <td>1</td>\n",
       "      <td>2000-07-30</td>\n",
       "      <td>18h30</td>\n",
       "      <td>Domingo</td>\n",
       "      <td>Juventude</td>\n",
       "      <td>Flamengo</td>\n",
       "      <td>-</td>\n",
       "      <td>Alfredo Jaconi</td>\n",
       "      <td>1</td>\n",
       "      <td>1</td>\n",
       "      <td>RS</td>\n",
       "      <td>RJ</td>\n",
       "      <td>-</td>\n",
       "    </tr>\n",
       "  </tbody>\n",
       "</table>\n",
       "</div>"
      ],
      "text/plain": [
       "  Rodada       Data Horário      Dia     Mandante    Visitante    Vencedor  \\\n",
       "0      1 2000-07-29   16h00   Sábado   Fluminense        Bahia  Fluminense   \n",
       "1      1 2000-07-29   16h00   Sábado        Vasco        Sport       Sport   \n",
       "2      1 2000-07-29   16h00   Sábado      Vitória    Palmeiras     Vitória   \n",
       "3      1 2000-07-30   17h00  Domingo  Botafogo-RJ  Atlético-MG           -   \n",
       "4      1 2000-07-30   18h30  Domingo    Juventude     Flamengo           -   \n",
       "\n",
       "            Arena  Mandante Placar  Visitante Placar Estado Mandante  \\\n",
       "0        Maracanã                2                 0              RJ   \n",
       "1    São Januário                0                 2              RJ   \n",
       "2        Barradão                4                 1              ES   \n",
       "3    Caio Martins                0                 0              RJ   \n",
       "4  Alfredo Jaconi                1                 1              RS   \n",
       "\n",
       "  Estado Visitante Estado Vencedor  \n",
       "0               BA              RJ  \n",
       "1               PE              PE  \n",
       "2               SP              ES  \n",
       "3               MG               -  \n",
       "4               RJ               -  "
      ]
     },
     "execution_count": 9,
     "metadata": {},
     "output_type": "execute_result"
    }
   ],
   "source": [
    "brasileirao.head()"
   ]
  },
  {
   "cell_type": "code",
   "execution_count": 10,
   "metadata": {
    "ExecuteTime": {
     "end_time": "2021-05-23T22:24:10.187850Z",
     "start_time": "2021-05-23T22:24:10.174880Z"
    }
   },
   "outputs": [
    {
     "data": {
      "text/plain": [
       "Rodada                      object\n",
       "Data                datetime64[ns]\n",
       "Horário                     object\n",
       "Dia                         object\n",
       "Mandante                    object\n",
       "Visitante                   object\n",
       "Vencedor                    object\n",
       "Arena                       object\n",
       "Mandante Placar              int64\n",
       "Visitante Placar             int64\n",
       "Estado Mandante             object\n",
       "Estado Visitante            object\n",
       "Estado Vencedor             object\n",
       "dtype: object"
      ]
     },
     "execution_count": 10,
     "metadata": {},
     "output_type": "execute_result"
    }
   ],
   "source": [
    "brasileirao.dtypes"
   ]
  },
  {
   "cell_type": "markdown",
   "metadata": {},
   "source": [
    "### Qual o maior vencedor de jogos?"
   ]
  },
  {
   "cell_type": "code",
   "execution_count": 11,
   "metadata": {
    "ExecuteTime": {
     "end_time": "2021-05-23T22:24:52.522191Z",
     "start_time": "2021-05-23T22:24:52.505195Z"
    },
    "scrolled": true
   },
   "outputs": [
    {
     "data": {
      "text/plain": [
       "Vencedor\n",
       "-                  2148\n",
       "São Paulo           366\n",
       "Santos              333\n",
       "Grêmio              322\n",
       "Internacional       322\n",
       "Cruzeiro            322\n",
       "Flamengo            319\n",
       "Corinthians         306\n",
       "Athlético-PR        306\n",
       "Fluminense          306\n",
       "Atlético-MG         302\n",
       "Palmeiras           294\n",
       "Vasco               226\n",
       "Goiás               223\n",
       "Botafogo-RJ         210\n",
       "Coritiba            194\n",
       "Vitória             152\n",
       "Figueirense         151\n",
       "Ponte Preta         149\n",
       "Sport               139\n",
       "Bahia               135\n",
       "Paraná              104\n",
       "São Caetano         103\n",
       "Juventude            96\n",
       "Chapecoense          69\n",
       "Guarani              63\n",
       "Fortaleza            61\n",
       "Portuguesa           57\n",
       "Avaí                 57\n",
       "Ceará                54\n",
       "Náutico              54\n",
       "Atlético-GO          51\n",
       "Criciúma             50\n",
       "Paysandu             50\n",
       "América-MG           38\n",
       "Botafogo-rj          26\n",
       "Santa Cruz           25\n",
       "Gama                 21\n",
       "Bragantino           13\n",
       "Barueri              12\n",
       "Santo André          11\n",
       "Brasiliense          10\n",
       "Ipatinga              9\n",
       "CSA                   8\n",
       "Grêmio Prudente       7\n",
       "Joinville             7\n",
       "SANTOS                6\n",
       "Botafogo-SP           6\n",
       "CRUZEIRO              4\n",
       "VASCO                 4\n",
       "FLUMINENSE            4\n",
       "América-RN            4\n",
       "CORINTHIANS           3\n",
       "SPORT                 2\n",
       "FLAMENGO              1\n",
       "PONTE PRETA           1\n",
       "INTERNACIONAL         1\n",
       "PALMEIRAS             1\n",
       "portuguesa            1\n",
       "Name: count, dtype: int64"
      ]
     },
     "execution_count": 11,
     "metadata": {},
     "output_type": "execute_result"
    }
   ],
   "source": [
    "brasileirao.Vencedor.value_counts()"
   ]
  },
  {
   "cell_type": "markdown",
   "metadata": {},
   "source": [
    "### Qual a tabela de jogos vencidos por clube na temporada de 2020? \n",
    "(periodo temp = '2020-01-01' a '2021-02-26')"
   ]
  },
  {
   "cell_type": "code",
   "execution_count": 12,
   "metadata": {
    "ExecuteTime": {
     "end_time": "2021-05-23T22:26:32.586700Z",
     "start_time": "2021-05-23T22:26:32.574724Z"
    }
   },
   "outputs": [
    {
     "data": {
      "text/plain": [
       "0       False\n",
       "1       False\n",
       "2       False\n",
       "3       False\n",
       "4       False\n",
       "        ...  \n",
       "8314     True\n",
       "8315     True\n",
       "8316     True\n",
       "8317     True\n",
       "8318     True\n",
       "Name: Data, Length: 8319, dtype: bool"
      ]
     },
     "execution_count": 12,
     "metadata": {},
     "output_type": "execute_result"
    }
   ],
   "source": [
    "cond = (brasileirao['Data'] >= '2020-01-01')& (brasileirao['Data'] <= '2021-02-26')\n",
    "cond"
   ]
  },
  {
   "cell_type": "code",
   "execution_count": 13,
   "metadata": {
    "ExecuteTime": {
     "end_time": "2021-05-23T22:27:06.731593Z",
     "start_time": "2021-05-23T22:27:06.713602Z"
    }
   },
   "outputs": [
    {
     "data": {
      "text/plain": [
       "Vencedor\n",
       "-                108\n",
       "Flamengo          21\n",
       "Atlético-MG       20\n",
       "Internacional     20\n",
       "São Paulo         18\n",
       "Fluminense        18\n",
       "Palmeiras         15\n",
       "Athlético-PR      15\n",
       "Grêmio            14\n",
       "Santos            14\n",
       "Ceará             14\n",
       "Bragantino        13\n",
       "Corinthians       13\n",
       "Atlético-GO       12\n",
       "Bahia             12\n",
       "Sport             12\n",
       "Vasco             10\n",
       "Fortaleza         10\n",
       "Goiás              9\n",
       "Coritiba           7\n",
       "Botafogo-RJ        5\n",
       "Name: count, dtype: int64"
      ]
     },
     "execution_count": 13,
     "metadata": {},
     "output_type": "execute_result"
    }
   ],
   "source": [
    "brasileirao[cond]['Vencedor'].value_counts()"
   ]
  },
  {
   "cell_type": "markdown",
   "metadata": {},
   "source": [
    "### Qual a quantidade de partidas realizadas em cada estádio?"
   ]
  },
  {
   "cell_type": "code",
   "execution_count": 14,
   "metadata": {
    "ExecuteTime": {
     "end_time": "2021-05-23T22:27:59.423751Z",
     "start_time": "2021-05-23T22:27:59.414768Z"
    }
   },
   "outputs": [
    {
     "data": {
      "text/plain": [
       "Arena\n",
       "Maracanã             626\n",
       "Mineirão             466\n",
       "Morumbi              407\n",
       "Beira Rio            352\n",
       "Vila Belmiro         340\n",
       "                    ... \n",
       "Romildo Ferreira       1\n",
       "Vivaldo Lima           1\n",
       "Pedro Pedrossian       1\n",
       "Antônio Guimarães      1\n",
       "Plácido Castelo        1\n",
       "Name: count, Length: 114, dtype: int64"
      ]
     },
     "execution_count": 14,
     "metadata": {},
     "output_type": "execute_result"
    }
   ],
   "source": [
    "brasileirao.Arena.value_counts()"
   ]
  },
  {
   "cell_type": "code",
   "execution_count": null,
   "metadata": {},
   "outputs": [],
   "source": []
  },
  {
   "cell_type": "markdown",
   "metadata": {},
   "source": [
    "# Lendo JSON"
   ]
  },
  {
   "cell_type": "markdown",
   "metadata": {},
   "source": [
    "## MeiliSearch\n",
    "- https://github.com/meilisearch/MeiliSearch\n",
    "- https://raw.githubusercontent.com/meilisearch/MeiliSearch/main/datasets/movies/movies.json"
   ]
  },
  {
   "cell_type": "code",
   "execution_count": 15,
   "metadata": {
    "ExecuteTime": {
     "end_time": "2021-05-23T22:29:12.955283Z",
     "start_time": "2021-05-23T22:29:11.015199Z"
    }
   },
   "outputs": [],
   "source": [
    "movies = pd.read_json('https://raw.githubusercontent.com/vega/vega/master/docs/data/movies.json')"
   ]
  },
  {
   "cell_type": "code",
   "execution_count": 16,
   "metadata": {
    "ExecuteTime": {
     "end_time": "2021-05-23T22:29:16.832002Z",
     "start_time": "2021-05-23T22:29:16.807019Z"
    }
   },
   "outputs": [
    {
     "data": {
      "text/html": [
       "<div>\n",
       "<style scoped>\n",
       "    .dataframe tbody tr th:only-of-type {\n",
       "        vertical-align: middle;\n",
       "    }\n",
       "\n",
       "    .dataframe tbody tr th {\n",
       "        vertical-align: top;\n",
       "    }\n",
       "\n",
       "    .dataframe thead th {\n",
       "        text-align: right;\n",
       "    }\n",
       "</style>\n",
       "<table border=\"1\" class=\"dataframe\">\n",
       "  <thead>\n",
       "    <tr style=\"text-align: right;\">\n",
       "      <th></th>\n",
       "      <th>Title</th>\n",
       "      <th>US Gross</th>\n",
       "      <th>Worldwide Gross</th>\n",
       "      <th>US DVD Sales</th>\n",
       "      <th>Production Budget</th>\n",
       "      <th>Release Date</th>\n",
       "      <th>MPAA Rating</th>\n",
       "      <th>Running Time min</th>\n",
       "      <th>Distributor</th>\n",
       "      <th>Source</th>\n",
       "      <th>Major Genre</th>\n",
       "      <th>Creative Type</th>\n",
       "      <th>Director</th>\n",
       "      <th>Rotten Tomatoes Rating</th>\n",
       "      <th>IMDB Rating</th>\n",
       "      <th>IMDB Votes</th>\n",
       "    </tr>\n",
       "  </thead>\n",
       "  <tbody>\n",
       "    <tr>\n",
       "      <th>0</th>\n",
       "      <td>The Land Girls</td>\n",
       "      <td>146083.0</td>\n",
       "      <td>146083.0</td>\n",
       "      <td>NaN</td>\n",
       "      <td>8000000.0</td>\n",
       "      <td>Jun 12 1998</td>\n",
       "      <td>R</td>\n",
       "      <td>NaN</td>\n",
       "      <td>Gramercy</td>\n",
       "      <td>None</td>\n",
       "      <td>None</td>\n",
       "      <td>None</td>\n",
       "      <td>None</td>\n",
       "      <td>NaN</td>\n",
       "      <td>6.1</td>\n",
       "      <td>1071.0</td>\n",
       "    </tr>\n",
       "    <tr>\n",
       "      <th>1</th>\n",
       "      <td>First Love, Last Rites</td>\n",
       "      <td>10876.0</td>\n",
       "      <td>10876.0</td>\n",
       "      <td>NaN</td>\n",
       "      <td>300000.0</td>\n",
       "      <td>Aug 07 1998</td>\n",
       "      <td>R</td>\n",
       "      <td>NaN</td>\n",
       "      <td>Strand</td>\n",
       "      <td>None</td>\n",
       "      <td>Drama</td>\n",
       "      <td>None</td>\n",
       "      <td>None</td>\n",
       "      <td>NaN</td>\n",
       "      <td>6.9</td>\n",
       "      <td>207.0</td>\n",
       "    </tr>\n",
       "    <tr>\n",
       "      <th>2</th>\n",
       "      <td>I Married a Strange Person</td>\n",
       "      <td>203134.0</td>\n",
       "      <td>203134.0</td>\n",
       "      <td>NaN</td>\n",
       "      <td>250000.0</td>\n",
       "      <td>Aug 28 1998</td>\n",
       "      <td>None</td>\n",
       "      <td>NaN</td>\n",
       "      <td>Lionsgate</td>\n",
       "      <td>None</td>\n",
       "      <td>Comedy</td>\n",
       "      <td>None</td>\n",
       "      <td>None</td>\n",
       "      <td>NaN</td>\n",
       "      <td>6.8</td>\n",
       "      <td>865.0</td>\n",
       "    </tr>\n",
       "    <tr>\n",
       "      <th>3</th>\n",
       "      <td>Let's Talk About Sex</td>\n",
       "      <td>373615.0</td>\n",
       "      <td>373615.0</td>\n",
       "      <td>NaN</td>\n",
       "      <td>300000.0</td>\n",
       "      <td>Sep 11 1998</td>\n",
       "      <td>None</td>\n",
       "      <td>NaN</td>\n",
       "      <td>Fine Line</td>\n",
       "      <td>None</td>\n",
       "      <td>Comedy</td>\n",
       "      <td>None</td>\n",
       "      <td>None</td>\n",
       "      <td>13.0</td>\n",
       "      <td>NaN</td>\n",
       "      <td>NaN</td>\n",
       "    </tr>\n",
       "    <tr>\n",
       "      <th>4</th>\n",
       "      <td>Slam</td>\n",
       "      <td>1009819.0</td>\n",
       "      <td>1087521.0</td>\n",
       "      <td>NaN</td>\n",
       "      <td>1000000.0</td>\n",
       "      <td>Oct 09 1998</td>\n",
       "      <td>R</td>\n",
       "      <td>NaN</td>\n",
       "      <td>Trimark</td>\n",
       "      <td>Original Screenplay</td>\n",
       "      <td>Drama</td>\n",
       "      <td>Contemporary Fiction</td>\n",
       "      <td>None</td>\n",
       "      <td>62.0</td>\n",
       "      <td>3.4</td>\n",
       "      <td>165.0</td>\n",
       "    </tr>\n",
       "  </tbody>\n",
       "</table>\n",
       "</div>"
      ],
      "text/plain": [
       "                        Title   US Gross  Worldwide Gross  US DVD Sales  \\\n",
       "0              The Land Girls   146083.0         146083.0           NaN   \n",
       "1      First Love, Last Rites    10876.0          10876.0           NaN   \n",
       "2  I Married a Strange Person   203134.0         203134.0           NaN   \n",
       "3        Let's Talk About Sex   373615.0         373615.0           NaN   \n",
       "4                        Slam  1009819.0        1087521.0           NaN   \n",
       "\n",
       "   Production Budget Release Date MPAA Rating  Running Time min Distributor  \\\n",
       "0          8000000.0  Jun 12 1998           R               NaN    Gramercy   \n",
       "1           300000.0  Aug 07 1998           R               NaN      Strand   \n",
       "2           250000.0  Aug 28 1998        None               NaN   Lionsgate   \n",
       "3           300000.0  Sep 11 1998        None               NaN   Fine Line   \n",
       "4          1000000.0  Oct 09 1998           R               NaN     Trimark   \n",
       "\n",
       "                Source Major Genre         Creative Type Director  \\\n",
       "0                 None        None                  None     None   \n",
       "1                 None       Drama                  None     None   \n",
       "2                 None      Comedy                  None     None   \n",
       "3                 None      Comedy                  None     None   \n",
       "4  Original Screenplay       Drama  Contemporary Fiction     None   \n",
       "\n",
       "   Rotten Tomatoes Rating  IMDB Rating  IMDB Votes  \n",
       "0                     NaN          6.1      1071.0  \n",
       "1                     NaN          6.9       207.0  \n",
       "2                     NaN          6.8       865.0  \n",
       "3                    13.0          NaN         NaN  \n",
       "4                    62.0          3.4       165.0  "
      ]
     },
     "execution_count": 16,
     "metadata": {},
     "output_type": "execute_result"
    }
   ],
   "source": [
    "movies.head()"
   ]
  },
  {
   "cell_type": "markdown",
   "metadata": {},
   "source": [
    "### Quais são os tipos de dados das colunas?"
   ]
  },
  {
   "cell_type": "code",
   "execution_count": 17,
   "metadata": {
    "ExecuteTime": {
     "end_time": "2021-05-23T22:29:52.348281Z",
     "start_time": "2021-05-23T22:29:52.328293Z"
    }
   },
   "outputs": [
    {
     "data": {
      "text/plain": [
       "Title                      object\n",
       "US Gross                  float64\n",
       "Worldwide Gross           float64\n",
       "US DVD Sales              float64\n",
       "Production Budget         float64\n",
       "Release Date               object\n",
       "MPAA Rating                object\n",
       "Running Time min          float64\n",
       "Distributor                object\n",
       "Source                     object\n",
       "Major Genre                object\n",
       "Creative Type              object\n",
       "Director                   object\n",
       "Rotten Tomatoes Rating    float64\n",
       "IMDB Rating               float64\n",
       "IMDB Votes                float64\n",
       "dtype: object"
      ]
     },
     "execution_count": 17,
     "metadata": {},
     "output_type": "execute_result"
    }
   ],
   "source": [
    "movies.dtypes"
   ]
  },
  {
   "cell_type": "code",
   "execution_count": 18,
   "metadata": {},
   "outputs": [
    {
     "name": "stdout",
     "output_type": "stream",
     "text": [
      "Index(['Title', 'US Gross', 'Worldwide Gross', 'US DVD Sales',\n",
      "       'Production Budget', 'Release Date', 'MPAA Rating', 'Running Time min',\n",
      "       'Distributor', 'Source', 'Major Genre', 'Creative Type', 'Director',\n",
      "       'Rotten Tomatoes Rating', 'IMDB Rating', 'IMDB Votes'],\n",
      "      dtype='object')\n"
     ]
    }
   ],
   "source": [
    "print(movies.columns)"
   ]
  },
  {
   "cell_type": "markdown",
   "metadata": {},
   "source": [
    "### Qual genêro predominante no conjunto de dados?"
   ]
  },
  {
   "cell_type": "code",
   "execution_count": 19,
   "metadata": {
    "ExecuteTime": {
     "end_time": "2021-05-23T22:30:44.017622Z",
     "start_time": "2021-05-23T22:30:43.932671Z"
    }
   },
   "outputs": [
    {
     "data": {
      "text/plain": [
       "Major Genre\n",
       "Drama                  789\n",
       "Comedy                 675\n",
       "Action                 420\n",
       "Adventure              274\n",
       "Thriller/Suspense      239\n",
       "Horror                 219\n",
       "Romantic Comedy        137\n",
       "Musical                 53\n",
       "Documentary             43\n",
       "Western                 36\n",
       "Black Comedy            36\n",
       "Concert/Performance      5\n",
       "Name: count, dtype: int64"
      ]
     },
     "execution_count": 19,
     "metadata": {},
     "output_type": "execute_result"
    }
   ],
   "source": [
    "\n",
    "movies['Major Genre'].value_counts()"
   ]
  },
  {
   "cell_type": "markdown",
   "metadata": {},
   "source": [
    "### Qual o ano de lançamento predominante da base??"
   ]
  },
  {
   "cell_type": "code",
   "execution_count": 22,
   "metadata": {},
   "outputs": [
    {
     "name": "stdout",
     "output_type": "stream",
     "text": [
      "O ano de lançamento predominante é: 2006\n"
     ]
    }
   ],
   "source": [
    "import pandas as pd\n",
    "\n",
    "# 1. Converte a coluna de data para datetime\n",
    "movies['Release Date'] = pd.to_datetime(movies['Release Date'], errors='coerce')\n",
    "\n",
    "# 2. Cria uma nova coluna apenas com o ano\n",
    "movies['Release Year'] = movies['Release Date'].dt.year\n",
    "\n",
    "# 3. Mostra o ano de lançamento predominante\n",
    "ano_mais_comum = movies['Release Year'].value_counts().idxmax()\n",
    "print(f\"O ano de lançamento predominante é: {ano_mais_comum}\")"
   ]
  },
  {
   "cell_type": "code",
   "execution_count": 23,
   "metadata": {
    "ExecuteTime": {
     "end_time": "2021-05-22T18:21:19.529418Z",
     "start_time": "2021-05-22T18:21:19.497375Z"
    },
    "scrolled": true
   },
   "outputs": [
    {
     "data": {
      "text/plain": [
       "<Axes: title={'center': 'Filmes por Ano'}, xlabel='Release Year'>"
      ]
     },
     "execution_count": 23,
     "metadata": {},
     "output_type": "execute_result"
    },
    {
     "data": {
      "image/png": "[encoded data removed]",
      "text/plain": [
       "<Figure size 1200x500 with 1 Axes>"
      ]
     },
     "metadata": {},
     "output_type": "display_data"
    }
   ],
   "source": [
    "movies['Release Year'].value_counts().sort_index().plot(kind='bar', figsize=(12,5), title='Filmes por Ano')"
   ]
  },
  {
   "cell_type": "code",
   "execution_count": null,
   "metadata": {},
   "outputs": [],
   "source": []
  }
 ],
 "metadata": {
  "kernelspec": {
   "display_name": "anaconda-panel-2023.05-py310",
   "language": "python",
   "name": "conda-env-anaconda-panel-2023.05-py310-py"
  },
  "language_info": {
   "codemirror_mode": {
    "name": "ipython",
    "version": 3
   },
   "file_extension": ".py",
   "mimetype": "text/x-python",
   "name": "python",
   "nbconvert_exporter": "python",
   "pygments_lexer": "ipython3",
   "version": "3.11.5"
  },
  "varInspector": {
   "cols": {
    "lenName": 16,
    "lenType": 16,
    "lenVar": 40
   },
   "kernels_config": {
    "python": {
     "delete_cmd_postfix": "",
     "delete_cmd_prefix": "del ",
     "library": "var_list.py",
     "varRefreshCmd": "print(var_dic_list())"
    },
    "r": {
     "delete_cmd_postfix": ") ",
     "delete_cmd_prefix": "rm(",
     "library": "var_list.r",
     "varRefreshCmd": "cat(var_dic_list()) "
    }
   },
   "types_to_exclude": [
    "module",
    "function",
    "builtin_function_or_method",
    "instance",
    "_Feature"
   ],
   "window_display": false
  }
 },
 "nbformat": 4,
 "nbformat_minor": 4
}
