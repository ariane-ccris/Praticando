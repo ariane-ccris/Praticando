{
 "cells": [
  {
   "cell_type": "markdown",
   "metadata": {},
   "source": [
    "# Tarefa 03\n",
    "\n",
    "- Leia os enunciados com atenção\n",
    "- Saiba que pode haver mais de uma resposta correta\n",
    "- Insira novas células de código sempre que achar necessário\n",
    "- Em caso de dúvidas, procure os Tutores\n",
    "- Divirta-se :)"
   ]
  },
  {
   "cell_type": "code",
   "execution_count": null,
   "metadata": {},
   "outputs": [],
   "source": []
  },
  {
   "cell_type": "markdown",
   "metadata": {},
   "source": [
    "####  1) Lendo de APIs\n",
    "Vimos em aula como carregar dados públicos do governo através de um API (*Application Programming Interface*). No exemplo de aula, baixamos os dados de pedidos de verificação de limites (PVL) realizados por estados, e selecionamos apenas aqueles referentes ao estado de São Paulo.\n",
    "\n",
    "1. Repita os mesmos passos feitos em aula, mas selecione os PVLs realizados por municípios no estado do Rio de Janeiro.\n",
    "2. Quais são os três *status* das solicitações mais frequentes na base? Quais são suas frequências?\n",
    "3. Construa uma nova variável que contenha o ano do **status**. Observe que ```data_status``` vem como tipo *object* no **DataFrame**. Dica: você pode usar o método ```.str``` para transformar o tipo da variável em string, em seguida um método como [**slice()**](https://pandas.pydata.org/docs/reference/api/pandas.Series.str.slice.html) ou [**split()**](https://pandas.pydata.org/pandas-docs/stable/reference/api/pandas.Series.str.split.html).\n",
    "4. Indique a frequência de cada ano do campo construído no item (3)."
   ]
  },
  {
   "cell_type": "code",
   "execution_count": 1,
   "metadata": {
    "scrolled": true
   },
   "outputs": [
    {
     "name": "stdout",
     "output_type": "stream",
     "text": [
      "   id_pleito tipo_interessado    interessado  cod_ibge  uf  \\\n",
      "0      67513           Estado           Pará        15  PA   \n",
      "1      68629        Município  Pará de Minas   3147105  MG   \n",
      "2      68631        Município          Jataí   5211909  GO   \n",
      "3      68632        Município    Salesópolis   3545001  SP   \n",
      "4      64864        Município     Dom Cavati   3122504  MG   \n",
      "\n",
      "                num_pvl                                             status  \\\n",
      "0  PVL02.004298/2023-10  Encaminhado à PGFN com manifestação técnica fa...   \n",
      "1  PVL02.000007/2024-97  Encaminhado à PGFN com manifestação técnica fa...   \n",
      "2  PVL02.000709/2024-71  Encaminhado à PGFN com manifestação técnica fa...   \n",
      "3  PVL02.000481/2024-19                         Em retificação pelo credor   \n",
      "4  PVL02.001949/2023-10                                  Deferido (PVL-IF)   \n",
      "\n",
      "           num_processo        data_protocolo  \\\n",
      "0  17944.105900/2023-90  2024-05-02T16:49:37Z   \n",
      "1  17944.002500/2024-12  2024-06-11T13:32:55Z   \n",
      "2  17944.002572/2024-51  2024-06-13T12:56:45Z   \n",
      "3  17944.002573/2024-04  2024-08-14T16:40:30Z   \n",
      "4                  None                  None   \n",
      "\n",
      "                                       tipo_operacao  \\\n",
      "0  Operação contratual interna (com garantia da U...   \n",
      "1  Operação contratual interna (com garantia da U...   \n",
      "2  Operação contratual interna (com garantia da U...   \n",
      "3  Operação contratual interna (com garantia da U...   \n",
      "4                        Operação contratual interna   \n",
      "\n",
      "                                       finalidade  \\\n",
      "0                                  Infraestrutura   \n",
      "1                                  Infraestrutura   \n",
      "2                                  Infraestrutura   \n",
      "3                                  Infraestrutura   \n",
      "4  Aquisição de máquinas, equipamentos e veículos   \n",
      "\n",
      "                       tipo_credor  \\\n",
      "0  Instituição Financeira Nacional   \n",
      "1  Instituição Financeira Nacional   \n",
      "2  Instituição Financeira Nacional   \n",
      "3  Instituição Financeira Nacional   \n",
      "4  Instituição Financeira Nacional   \n",
      "\n",
      "                                         credor moeda        valor  \\\n",
      "0                       Caixa Econômica Federal  Real  176770000.0   \n",
      "1                       Caixa Econômica Federal  Real   60000000.0   \n",
      "2                           Banco do Brasil S/A  Real   55000000.0   \n",
      "3                       Caixa Econômica Federal  Real   20000000.0   \n",
      "4  Banco de Desenvolvimento de Minas Gerais S/A  Real     700000.0   \n",
      "\n",
      "   pvl_assoc_divida  pvl_contradado_credor data_status  \n",
      "0                 0                      1  16/05/2024  \n",
      "1                 0                      1  28/06/2024  \n",
      "2                 0                      1  20/06/2024  \n",
      "3                 0                      0  14/03/2025  \n",
      "4                 0                      1  30/05/2023  \n"
     ]
    }
   ],
   "source": [
    "# 1) Seu código aqui - Ler o arquivo JSON salvo\n",
    "import json\n",
    "import pandas as pd\n",
    "\n",
    "# Lê o arquivo\n",
    "with open('pvl_dados.json', 'r', encoding='utf-8') as f:\n",
    "    conteudo = f.read()\n",
    "\n",
    "# Converte o texto JSON para dicionário\n",
    "dados = json.loads(conteudo)\n",
    "\n",
    "# Acessa a lista de itens e cria o DataFrame\n",
    "df = pd.DataFrame(dados[\"items\"])\n",
    "\n",
    "# Exibe as 5 primeiras linhas\n",
    "print(df.head())"
   ]
  },
  {
   "cell_type": "code",
   "execution_count": 2,
   "metadata": {},
   "outputs": [
    {
     "name": "stdout",
     "output_type": "stream",
     "text": [
      "data_status\n",
      "02/07/2004    19\n",
      "18/06/2012    15\n",
      "10/06/2008    15\n",
      "Name: count, dtype: int64\n"
     ]
    }
   ],
   "source": [
    "# 2) Ver os três status mais frequentes\n",
    "print(df[\"data_status\"].value_counts().head(3))"
   ]
  },
  {
   "cell_type": "code",
   "execution_count": 3,
   "metadata": {},
   "outputs": [
    {
     "name": "stdout",
     "output_type": "stream",
     "text": [
      "  data_status ano_status\n",
      "0  16/05/2024       16/0\n",
      "1  28/06/2024       28/0\n",
      "2  20/06/2024       20/0\n",
      "3  14/03/2025       14/0\n",
      "4  30/05/2023       30/0\n"
     ]
    }
   ],
   "source": [
    "# 3) Nova coluna com o ano do status\n",
    "df[\"ano_status\"] = df[\"data_status\"].str.slice(0, 4)\n",
    "print(df[[\"data_status\", \"ano_status\"]].head())\n",
    "\n",
    "df[\"ano_status\"] = df[\"data_status\"].str.split(\"-\").str[0]\n"
   ]
  },
  {
   "cell_type": "code",
   "execution_count": 4,
   "metadata": {},
   "outputs": [
    {
     "name": "stdout",
     "output_type": "stream",
     "text": [
      "ano_status\n",
      "02/07/2004    19\n",
      "18/06/2012    15\n",
      "10/06/2008    15\n",
      "02/10/2008    15\n",
      "15/09/2008    14\n",
      "              ..\n",
      "06/09/2013     1\n",
      "10/12/2021     1\n",
      "13/04/2005     1\n",
      "07/05/2025     1\n",
      "25/03/2013     1\n",
      "Name: count, Length: 2451, dtype: int64\n"
     ]
    }
   ],
   "source": [
    "# 4) Mostrar frequência do ano_status\n",
    "print(df[\"ano_status\"].value_counts())"
   ]
  },
  {
   "cell_type": "markdown",
   "metadata": {},
   "source": [
    "####  2) Melhorando a interação com o API\n",
    "Observe dois URLs de consultas diferentes, por exemplo o URL utilizado em aula, e o URL feito no exercício anterior. Compare-os e observe as diferenças.\n",
    "\n",
    "1. Faça uma função em Python que recebe como argumento o UF da consulta e o tipo de interessado (```'Estado'```ou ```Município```), e que devolve os dados da consulta no formato *DataFrame*.\n",
    "2. Quantas solicitações para o Estado podem ser consultadas para Minas Gerais com *status* em 'Arquivado por decurso de prazo' estão registradas?\n",
    "3. Qual é o município da Bahia com mais solicitações deferidas?\n",
    "4. Salve um arquivo .csv com os dados de solicitações da Bahia, com interessado = 'Estado'"
   ]
  },
  {
   "cell_type": "code",
   "execution_count": 16,
   "metadata": {},
   "outputs": [
    {
     "name": "stdout",
     "output_type": "stream",
     "text": [
      "Arquivo salvo como 'bahia_estado.csv'\n"
     ]
    }
   ],
   "source": [
    "# 1) Função que filtra UF e tipo de interessado:\n",
    "filtro = (df[\"uf\"] == \"BA\") & (df[\"tipo_interessado\"] == \"Estado\")\n",
    "df[filtro].to_csv(\"bahia_estado.csv\", index=False)\n",
    "print(\"Arquivo salvo como 'bahia_estado.csv'\")"
   ]
  },
  {
   "cell_type": "code",
   "execution_count": 17,
   "metadata": {},
   "outputs": [
    {
     "name": "stdout",
     "output_type": "stream",
     "text": [
      "Total de solicitações arquivadas por decurso de prazo em MG: 65\n"
     ]
    }
   ],
   "source": [
    "# 2) Quantas solicitações para o estado de Minas Gerais com status \"Arquivado por descurto de prazo\" estão registrados?:\n",
    "filtro = (df[\"uf\"] == \"MG\") & (df[\"status\"] == \"Arquivado por decurso de prazo\")\n",
    "quantidade = df[filtro].shape[0]\n",
    "print(\"Total de solicitações arquivadas por decurso de prazo em MG:\", quantidade)"
   ]
  },
  {
   "cell_type": "code",
   "execution_count": 29,
   "metadata": {},
   "outputs": [
    {
     "name": "stdout",
     "output_type": "stream",
     "text": [
      "O município da Bahia com mais solicitações deferidas é: Teixeira de Freitas (4 solicitações).\n"
     ]
    }
   ],
   "source": [
    "# 3) Qual é o municipio da Bahia com mais solicitações deferidas?:\n",
    "filtro_bahia_municipios_deferidos = (\n",
    "    (df['uf'] == 'BA') &\n",
    "    (df['tipo_interessado'] == 'Município') &\n",
    "    (df['status'] == 'Deferido')\n",
    ")\n",
    "\n",
    "# Aplicar o filtro\n",
    "df_bahia_deferidos = df[filtro_bahia_municipios_deferidos]\n",
    "\n",
    "# Contar o número de deferimentos por município\n",
    "municipio_mais_deferimentos = df_bahia_deferidos['interessado'].value_counts().idxmax()\n",
    "quantidade = df_bahia_deferidos['interessado'].value_counts().max()\n",
    "\n",
    "print(f'O município da Bahia com mais solicitações deferidas é: {municipio_mais_deferimentos} ({quantidade} solicitações).')"
   ]
  },
  {
   "cell_type": "code",
   "execution_count": 31,
   "metadata": {},
   "outputs": [
    {
     "name": "stdout",
     "output_type": "stream",
     "text": [
      "Arquivo salvo como 'bahia_estado.csv'\n"
     ]
    }
   ],
   "source": [
    "# 4) Salvando um arquivo .csv com os dados da Bahia, com interessado = 'Estado':\n",
    "filtro = (df[\"uf\"] == \"BA\") & (df[\"tipo_interessado\"] == \"Estado\")\n",
    "df[filtro].to_csv(\"bahia_estado.csv\", index=False)\n",
    "print(\"Arquivo salvo como 'bahia_estado.csv'\")"
   ]
  }
 ],
 "metadata": {
  "kernelspec": {
   "display_name": "anaconda-panel-2023.05-py310",
   "language": "python",
   "name": "conda-env-anaconda-panel-2023.05-py310-py"
  },
  "language_info": {
   "codemirror_mode": {
    "name": "ipython",
    "version": 3
   },
   "file_extension": ".py",
   "mimetype": "text/x-python",
   "name": "python",
   "nbconvert_exporter": "python",
   "pygments_lexer": "ipython3",
   "version": "3.11.5"
  }
 },
 "nbformat": 4,
 "nbformat_minor": 4
}
